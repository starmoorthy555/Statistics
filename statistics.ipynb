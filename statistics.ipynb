{
 "cells": [
  {
   "cell_type": "markdown",
   "metadata": {},
   "source": [
    "# Statistics\n",
    "    Statistics is a science of collecting organizing and analyzing data(used to make prediction and decesion making). "
   ]
  },
  {
   "cell_type": "markdown",
   "metadata": {},
   "source": [
    "# What is variables?\n",
    "    Defined as something countable or measurable.\n",
    "    Eg:\n",
    "        weight(kg) = 10.2,12.3,14.5,12.5,11.4.\n",
    "        height(cm) = 20.6,54.5,34.5,43.4,54.3."
   ]
  },
  {
   "cell_type": "markdown",
   "metadata": {},
   "source": [
    "# What is data?\n",
    "    it is a peice of information that can be measurd. "
   ]
  },
  {
   "cell_type": "markdown",
   "metadata": {},
   "source": [
    "# Types of data.\n",
    "    1.Qualitative(Catagerical).\n",
    "    2.Quantitative(Numerical)."
   ]
  },
  {
   "cell_type": "markdown",
   "metadata": {},
   "source": [
    "# 1.Qualitative data(catagetical):\n",
    "    we have two types of data in Qualitative.they are\n",
    "    -->Nominal.\n",
    "    -->Ordinal.\n",
    "    \n",
    "Nominal:\n",
    "    it is a true or false catagory.\n",
    "    Eg:\n",
    "        -->Gender.\n",
    "            male.\n",
    "            female.\n",
    "Ordinal:\n",
    "    it is a comaprison.\n",
    "    Eg:\n",
    "        A is greater than B\n",
    "        C is better than D"
   ]
  },
  {
   "cell_type": "markdown",
   "metadata": {},
   "source": [
    "# 2.Quantitative data(Numerical):\n",
    "    we have two types in quantitative data. they are\n",
    "    -->Descrite\n",
    "    -->Continious\n",
    "\n",
    "Descrite:\n",
    "    it is a normal value.\n",
    "    Eg:\n",
    "        2,3,6,5,4,3.\n",
    "\n",
    "Continious:\n",
    "    it is a continious values.\n",
    "    Eg:\n",
    "        2.3,6.5,7.6,4.5"
   ]
  },
  {
   "cell_type": "markdown",
   "metadata": {},
   "source": [
    "# Types of statistics:\n",
    "    1.Descriptive statistics.\n",
    "    2.Infrential statistics."
   ]
  },
  {
   "cell_type": "markdown",
   "metadata": {},
   "source": [
    "1.Descriptive statistics:\n",
    "    it contains organizing and summerizing the data."
   ]
  },
  {
   "cell_type": "markdown",
   "metadata": {},
   "source": [
    "2.Infrential statistics:\n",
    "    it is a technique where we in use data that we have measure to form a conclusion.\n",
    "    "
   ]
  },
  {
   "cell_type": "markdown",
   "metadata": {},
   "source": [
    "We have another two types of data.that is \n",
    "    1.Stuctured data.\n",
    "    2.Unstuctured data."
   ]
  },
  {
   "cell_type": "markdown",
   "metadata": {},
   "source": [
    "# Stuctured data:\n",
    "    \n",
    "    --> it is an organizing data used to make prediction and decesion making."
   ]
  },
  {
   "cell_type": "markdown",
   "metadata": {},
   "source": [
    "# Unstuctured data:\n",
    "    \n",
    "     --> it is an non organizing data. it is only used for analysizing data."
   ]
  },
  {
   "cell_type": "code",
   "execution_count": 7,
   "metadata": {},
   "outputs": [
    {
     "name": "stdout",
     "output_type": "stream",
     "text": [
      "[4. 6. 8. 3. 4. 6. 7. 8. 5. 6.]\n"
     ]
    }
   ],
   "source": [
    "#how we convert the stuctured data into unstuctured data:\n",
    "\n",
    "x= 4,6,8,3,4,6,7,8,5,6.\n",
    "import numpy as np\n",
    "y = np.array(x)\n",
    "print(y)"
   ]
  },
  {
   "cell_type": "markdown",
   "metadata": {},
   "source": [
    "# Probablity:\n",
    "    probablity is a measure of likelywood of an event.\n",
    "    \n",
    "    probablity = no of event can accour/no of pssible outcomes\n",
    "    \n",
    "    \n",
    "Eg:\n",
    " if i roll a dice what is the probablity of getting no 5?\n",
    " no of event can accour = 1\n",
    " no of possible out comes = 6\n",
    " probablity = 1/6\n",
    " "
   ]
  },
  {
   "cell_type": "code",
   "execution_count": 1,
   "metadata": {},
   "outputs": [
    {
     "name": "stdout",
     "output_type": "stream",
     "text": [
      "0.16666666666666666\n"
     ]
    }
   ],
   "source": [
    "#probablity of rooling a dice\n",
    "probablity = 1/6\n",
    "print(\"probablity)"
   ]
  },
  {
   "cell_type": "markdown",
   "metadata": {},
   "source": [
    "# Rules in probabality:\n",
    "    1.Addition rule in probablity.\n",
    "    2.Multiplication rule in probablity."
   ]
  },
  {
   "cell_type": "markdown",
   "metadata": {},
   "source": [
    "# Addition rule in probablity:\n",
    "    First we need to find it is a mutual exclusive or nn mutual exclusive event.\n",
    "    1.Mutual Exclusive evant.\n",
    "    2.Non mutual Exclusive event.\n",
    "    \n",
    "1.Mutual Exclusive event.\n",
    "    two or more event cannot accour at the same time.\n",
    "    Eg:\n",
    "    rool a dice what is the probablity of getting 3?"
   ]
  },
  {
   "cell_type": "code",
   "execution_count": 6,
   "metadata": {},
   "outputs": [
    {
     "name": "stdout",
     "output_type": "stream",
     "text": [
      "mutual exclusive event of getting 3: 0.16666666666666666\n"
     ]
    }
   ],
   "source": [
    "#dice have six faces so no of possible outcomes is six.\n",
    "#three has one face in a a dice so no of event can accour is one. \n",
    "#probablity = no of event can accor/no of possible outcomes.\n",
    "probablity = 1/6\n",
    "print('mutual exclusive event of getting 3:',probablity)"
   ]
  },
  {
   "cell_type": "markdown",
   "metadata": {},
   "source": [
    "2.Non mutual exclusive event.\n",
    "    two events accour at the same time.\n",
    "    Eg:\n",
    "    toss a coin what is the probablity of getting head (or) Tail?"
   ]
  },
  {
   "cell_type": "code",
   "execution_count": 9,
   "metadata": {},
   "outputs": [
    {
     "name": "stdout",
     "output_type": "stream",
     "text": [
      "non mutual exclusive event of getting head (or) tail: 1.0\n"
     ]
    }
   ],
   "source": [
    "#coin has two faces so no of possible outcomes is two.\n",
    "#head or tail has one face in a single coin so event can accour is one.\n",
    "#prbabality = no of event can accour/no of possible outcomes.\n",
    "probablity1 = 1/2 + 1/2\n",
    "print('non mutual exclusive event of getting head (or) tail:',probablity1)"
   ]
  },
  {
   "cell_type": "markdown",
   "metadata": {},
   "source": [
    "# Multiplication rule in probabality:\n",
    "    first we need to find it is a independent or non independent event.\n",
    "    1.Independent events.\n",
    "    2.non Independent events.\n",
    "  \n",
    "1.Independent events.\n",
    "    An event can accoured that is not going to impact another event.\n",
    "    Eg:\n",
    "    rool a dice.\n",
    "    here i rool a dice twice that one event cannot affect the another event.\n",
    "    what is the probablity of getting 5 and then 4 ina a dice?"
   ]
  },
  {
   "cell_type": "code",
   "execution_count": 2,
   "metadata": {},
   "outputs": [
    {
     "name": "stdout",
     "output_type": "stream",
     "text": [
      "independient event of 4 and 5 is : 0.027777777777777776\n"
     ]
    }
   ],
   "source": [
    "#dice have six faces so no of possible outcomes is six.\n",
    "#five has one face in a a dice so no of event can accour is one. \n",
    "#four has one face so no of event can accour is one.\n",
    "#probablity = no of event can accor/no of possible outcomes.\n",
    "\n",
    "prob=1/6 * 1/6\n",
    "print('independient event of 4 and 5 is :',prob)"
   ]
  },
  {
   "cell_type": "markdown",
   "metadata": {},
   "source": [
    "2.Non Independent event:\n",
    "    An event can accur that going to imact another event.\n",
    "    Eg:\n",
    "    i have six apples and five bananas in a bag.what is the probablity of getting one apple?  and what is the probablity \n",
    "    of getting orange in a bag?. here the event of getting apple is impact to probablity of getting orange."
   ]
  },
  {
   "cell_type": "code",
   "execution_count": 3,
   "metadata": {},
   "outputs": [
    {
     "name": "stdout",
     "output_type": "stream",
     "text": [
      "probablity of taking apple and banana inside a bag : 0.2727272727272727\n"
     ]
    }
   ],
   "source": [
    "#no of fruits insde a bag is leven that is no of possible outcomes\n",
    "# total no of apple is six that is no of event can accour\n",
    "# total no of orange is five that is no of event can accour\n",
    "# probablity = no of time event can accour/ no of possible outcomes\n",
    "\n",
    "probablity2 = 6/11 * 5/10\n",
    "print('probablity of taking apple and banana inside a bag :',probablity2)"
   ]
  },
  {
   "cell_type": "markdown",
   "metadata": {},
   "source": [
    "# Population and sample:\n",
    "1.Population:\n",
    "    populatin is a full data set what we have.\n",
    "    it is represented by (N)."
   ]
  },
  {
   "cell_type": "markdown",
   "metadata": {},
   "source": [
    "2.Sample:\n",
    "    sample is a sub set of population.\n",
    "    it is represented by (n)."
   ]
  },
  {
   "cell_type": "markdown",
   "metadata": {},
   "source": [
    "# Sampling technique:\n",
    "    we have lots of sampling technique. but widely use four majour types. they are\n",
    "    1.Simple random sampling.\n",
    "    2.Stratified sampling.\n",
    "    3.Systamatic samplig.\n",
    "    4.Convenience sampling."
   ]
  },
  {
   "cell_type": "markdown",
   "metadata": {},
   "source": [
    "1.Simple random sampling:\n",
    "    we can choose a sample randomly from our data set."
   ]
  },
  {
   "cell_type": "markdown",
   "metadata": {},
   "source": [
    "2:Strtified sampling:\n",
    "    where the population sample split into non-overlaping groups.\n",
    "    Eg:\n",
    "        Gender.\n",
    "        -->male\n",
    "        -->female"
   ]
  },
  {
   "cell_type": "markdown",
   "metadata": {},
   "source": [
    "3.Systamatic sampling:\n",
    "    every nth individual.\n",
    "    Eg:\n",
    "    -->every fourth person\n",
    "    -->every fifth person"
   ]
  },
  {
   "cell_type": "markdown",
   "metadata": {},
   "source": [
    "4.Convenience sampling:\n",
    "    only those person who expert in particular domine."
   ]
  },
  {
   "cell_type": "markdown",
   "metadata": {},
   "source": [
    "# Measure of central tendency:\n",
    "    it is a central measure of tendency.it is mainly classify into three types\n",
    "    1.Mean.\n",
    "    2.Median.\n",
    "    3.mode.\n",
    "    \n",
    "    it is used to determine the center of the distribution of the data.    "
   ]
  },
  {
   "cell_type": "markdown",
   "metadata": {},
   "source": [
    "# 1.Mean.\n",
    "    it is a average value of the data set"
   ]
  },
  {
   "cell_type": "code",
   "execution_count": 2,
   "metadata": {},
   "outputs": [
    {
     "name": "stdout",
     "output_type": "stream",
     "text": [
      "the mean value of the x data set is: 5.875\n"
     ]
    }
   ],
   "source": [
    "#if i have a data set like\n",
    "x=[5,8,5,9,4,6,2,8,6,9,5,5,8,9,5,0,]\n",
    "import numpy as np\n",
    "mean = np.mean(x)\n",
    "print('the mean value of the x data set is:',mean)"
   ]
  },
  {
   "cell_type": "markdown",
   "metadata": {},
   "source": [
    "# 2.median.\n",
    "    it is a center value of the data.\n",
    "    "
   ]
  },
  {
   "cell_type": "code",
   "execution_count": 4,
   "metadata": {},
   "outputs": [
    {
     "name": "stdout",
     "output_type": "stream",
     "text": [
      "the median value of the data set: 5.5\n"
     ]
    }
   ],
   "source": [
    "#if i have a data set like\n",
    "x=[5,8,5,9,4,6,2,8,6,9,5,5,8,9,5,0,]\n",
    "import numpy as np\n",
    "median = np.median(x)\n",
    "print('the median value of the data set:',median)\n"
   ]
  },
  {
   "cell_type": "markdown",
   "metadata": {},
   "source": [
    "# 3.Mode.\n",
    "\n",
    "    Mode is a most repeated value.\n",
    "    "
   ]
  },
  {
   "cell_type": "code",
   "execution_count": 7,
   "metadata": {},
   "outputs": [
    {
     "name": "stdout",
     "output_type": "stream",
     "text": [
      "the mode value of the data set: 5\n"
     ]
    }
   ],
   "source": [
    "#if i have a data set like\n",
    "x=[5,8,5,9,4,6,2,8,6,9,5,5,8,9,5,0,]\n",
    "import statistics\n",
    "mode = statistics.mode(x)\n",
    "print('the mode value of the data set:',mode)\n"
   ]
  },
  {
   "cell_type": "markdown",
   "metadata": {},
   "source": [
    "# Measure of dispersion:\n",
    "    \n",
    "    In statistics measure of dispersion helps to interpret the variablity of data.\n",
    "    \n",
    "    we have two steps to find a dispersion. they are\n",
    "    \n",
    "    1.variance.\n",
    "    \n",
    "    2.standerd deviation.\n",
    "    "
   ]
  },
  {
   "cell_type": "markdown",
   "metadata": {},
   "source": [
    "1.variance:\n",
    "\n",
    "    -->its a value that intimate how spred out the values are.\n",
    "    \n",
    "    --> variance = (xbar - mean)/number of values.\n",
    "    \n",
    "    --> variance = (x-mean)/N.\n",
    "    "
   ]
  },
  {
   "cell_type": "code",
   "execution_count": 3,
   "metadata": {},
   "outputs": [
    {
     "name": "stdout",
     "output_type": "stream",
     "text": [
      "the variance of the data set is: 405.21818181818185\n"
     ]
    }
   ],
   "source": [
    "#if i have data set like this\n",
    "import statistics\n",
    "x=[32,54,12,65,43,23,7,67,45,34,22]\n",
    "variance = statistics.variance(x, xbar=None)\n",
    "print('the variance of the data set is:',variance)\n"
   ]
  },
  {
   "cell_type": "markdown",
   "metadata": {},
   "source": [
    "2.standerd deviation:\n",
    "\n",
    "    --> standerd deviation is a value that descrides how spread out the values are.\n",
    "    \n",
    "    --> square root of the variance is standerd deviation.\n",
    "    \n",
    "    --> standerd deviation = square foot of(x-mean)/N.\n",
    "    "
   ]
  },
  {
   "cell_type": "code",
   "execution_count": 6,
   "metadata": {},
   "outputs": [
    {
     "name": "stdout",
     "output_type": "stream",
     "text": [
      "the variance of the data set is: 20.13003183847909\n"
     ]
    }
   ],
   "source": [
    "#if i have data set like this\n",
    "import statistics\n",
    "x=[32,54,12,65,43,23,7,67,45,34,22]\n",
    "variance = statistics.stdev(x, xbar=None)\n",
    "print('the variance of the data set is:',variance)\n"
   ]
  },
  {
   "cell_type": "markdown",
   "metadata": {},
   "source": [
    "# Frequency distribution and Cumulative distribution:\n",
    "\n",
    "1.Frequency distribution:\n",
    "    how many times they or that repet.\n",
    "    Eg:\n",
    "    \n",
    "                    frequency distribution\n",
    "    Rose                  3\n",
    "    Sun Flower            5\n",
    "    Lilly                 6\n",
    "    jasmine               8\n",
    "    \n",
    "2.Cumulative frequency:\n",
    "    addition of frequency distribution.\n",
    "    Eg:\n",
    "    \n",
    "                    frequency distribution       cumulative frequency\n",
    "    Rose                   3                               3\n",
    "    Sun Flower             5                               8\n",
    "    Lilly                  6                               14 \n",
    "    Jasmine                8                               22\n",
    "    \n",
    " \n",
    "    "
   ]
  },
  {
   "cell_type": "markdown",
   "metadata": {},
   "source": [
    "# Histogram & Bargraph:\n",
    "1.Histogram:\n",
    "\n",
    "    it is a data visualization. its mainly used for continous variable\n",
    "    "
   ]
  },
  {
   "cell_type": "code",
   "execution_count": 13,
   "metadata": {},
   "outputs": [
    {
     "data": {
      "image/png": "[encoded data removed]",
      "text/plain": [
       "<Figure size 432x288 with 1 Axes>"
      ]
     },
     "metadata": {
      "needs_background": "light"
     },
     "output_type": "display_data"
    }
   ],
   "source": [
    "import random\n",
    "import numpy as np\n",
    "import matplotlib.pyplot as plt\n",
    "x= np.random.normal(170,10,250)\n",
    "plt.hist(x)\n",
    "plt.show()"
   ]
  },
  {
   "cell_type": "markdown",
   "metadata": {},
   "source": [
    "2.Bargraph:\n",
    "    \n",
    "    bar graph is a data visualization. it is mainly used for catagerical variable."
   ]
  },
  {
   "cell_type": "code",
   "execution_count": 18,
   "metadata": {},
   "outputs": [
    {
     "data": {
      "image/png": "[encoded data removed]",
      "text/plain": [
       "<Figure size 432x288 with 1 Axes>"
      ]
     },
     "metadata": {
      "needs_background": "light"
     },
     "output_type": "display_data"
    }
   ],
   "source": [
    "import random\n",
    "import numpy as np\n",
    "import matplotlib.pyplot as plt\n",
    "x= [10,20,13,14,16,18,20]\n",
    "y=[1,2,4,3,2,5,4]\n",
    "plt.bar(x,y)\n",
    "plt.show()\n"
   ]
  },
  {
   "cell_type": "markdown",
   "metadata": {},
   "source": [
    "# Percentiles and Quartiles:\n",
    "    \n",
    "    --> percentiles is a value which below certain percentage of odservation lie.\n",
    "    \n",
    "    --> percentile = (total no of below values/total numbers)*100\n",
    "     \n",
    "        Eg:\n",
    "            if i have a value like x = [2,5,3,7,6,3,2,4,7,9,8]\n",
    "         \n",
    "            what is the percentile value of 4?\n",
    "            \n",
    "            percentile = (total no of value/total numbers)*100\n",
    "            \n",
    "            percentile = (7/11)*100\n",
    "            \n",
    "            percentile = 63.63 it is the absolute value of 64\n",
    "            \n",
    "            which means 64 percentage of the vale is below the value of 4.\n",
    "        "
   ]
  },
  {
   "cell_type": "code",
   "execution_count": 33,
   "metadata": {},
   "outputs": [
    {
     "name": "stdout",
     "output_type": "stream",
     "text": [
      "2.9\n"
     ]
    }
   ],
   "source": [
    "import numpy as np\n",
    "per = np.percentile(dataset,5)\n",
    "dataset = [2,3,4,5,6,7,8,9,10,11,12,13,14,15,16,17,18,19,20]\n",
    "print(per)\n"
   ]
  },
  {
   "cell_type": "markdown",
   "metadata": {},
   "source": [
    "Incase if i have a percentile value then how we will find out the number.\n",
    "\n",
    "we have a percentile is 25 percentile. so what is the value of 25percentile?\n",
    "\n",
    "value = (percentile/100)(n+1)\n",
    "\n",
    "dataset = [2,3,4,5,6,7,8,9,10,11,12,13,14,15,16,17,18,19,20]\n",
    "\n",
    "value = (25/100)(19+1)\n",
    "\n",
    "value = 0.25*20\n",
    "\n",
    "value = 5\n",
    "\n",
    "here 5 is the index vale of the data set.\n",
    "\n",
    "so our data set 6 is the 5th index posision of the data set.\n"
   ]
  },
  {
   "cell_type": "markdown",
   "metadata": {},
   "source": [
    "# Outlier analyis:\n",
    "    the outlier analysis have some several process.they are\n",
    "    --> Five number summary\n",
    "    --> Inter quartile range(IQR)\n",
    "    --> Boxplots\n",
    "    --> Effect of out liers and its removal"
   ]
  },
  {
   "cell_type": "markdown",
   "metadata": {},
   "source": [
    "# Five number summary:\n",
    "    \n",
    "    --> The five number summary is the one of the process of outlier anlysis.and it is a process of anlysing our data\n",
    "    \n",
    "    --> The five number have five data presentation.they are\n",
    "        1.Minimum(small value).\n",
    "        2.First quartile(25 percentile).\n",
    "        3.Median(center value of the data set).\n",
    "        4.Third quartile range(75 percentile)\n",
    "        5.Maximum(large value).\n",
    "        "
   ]
  },
  {
   "cell_type": "markdown",
   "metadata": {},
   "source": [
    "# Inter quartile range:\n",
    "    \n",
    "    IQR is the shortest form of inter quartile range.\n",
    "    \n",
    "    Inter quartile range(IQR) = Q3-Q1\n",
    "    "
   ]
  },
  {
   "cell_type": "markdown",
   "metadata": {},
   "source": [
    "# Outliers and its removals:\n",
    "    \n",
    "    --> we can remove the outliers usage of lower and higher affence.\n",
    "     \n",
    "    --> lower affence = Q1 - 1.5(IQR).\n",
    "    \n",
    "    --> Higher affence = Q3 + 1.5(IQR)."
   ]
  },
  {
   "cell_type": "markdown",
   "metadata": {},
   "source": [
    "# Outlier analysis and its removal:\n",
    "    \n",
    "    if i have a data set like x=[1,2,2,2,3,3,4,5,5,5,6,6,6,6,7,8,8,9,27]\n",
    "    \n",
    "    --> step 1:\n",
    "        \n",
    "        we need to find the IQR value\n",
    "        \n",
    "        Inter quartile range(IQR) = Q3 - Q1\n",
    "        \n",
    "        Q1 = 25 percentile\n",
    "        Q3 = 75 percentile\n",
    "        \n",
    "    --> step 2:\n",
    "        \n",
    "        we need to find the percentile value\n",
    "        \n",
    "        value(first quartile) = (percentile/100)*(n+1)\n",
    "        \n",
    "        value(first quartile) = (25/100)*(19+1)\n",
    "        \n",
    "        value(first quartile) = 0.20*20\n",
    "        \n",
    "        value(first quartile) = 3\n",
    "        \n",
    "        value(third quartile) = (Perentile/100)*(n+1)\n",
    "        \n",
    "        value(third quartile) = (75/100)*(19+1)\n",
    "\n",
    "        value(third quartile) = (3/4)*20\n",
    "\n",
    "        value(third quartile) = 7'\n",
    "        \n",
    "        First Quartile (Q1) = 3\n",
    "        \n",
    "        Third Quartile (Q3) = 7\n",
    "        \n",
    "    --> step 3:\n",
    "        \n",
    "        Inter Quartile Range(IQR) = Q3 - Q1\n",
    "        \n",
    "        Inter Quartile Range(IQR) = 7 - 3\n",
    "        \n",
    "        Inter Quartile Range(IQR) = 4\n",
    "        \n",
    "    --> step 4:\n",
    "        \n",
    "        lower affence = Q1 - 1.5(IQR) = 3-1.5(4) = 3-6 = 3\n",
    "        \n",
    "        Higher affence = Q3 + 1.5(IQR) = 7+1.5(4) = 7+6 = 13\n",
    "        \n",
    "    --> step 5:\n",
    "        \n",
    "        1.Minimum(1).\n",
    "        \n",
    "        2.First Quartile(3).\n",
    "        \n",
    "        3.Median(5).\n",
    "        \n",
    "        4.Third Quartile(7).\n",
    "        \n",
    "        5.Maximum(9).\n",
    "        \n",
    "             Here we can determine the outlier using lower affence and higher affence."
   ]
  },
  {
   "cell_type": "code",
   "execution_count": 2,
   "metadata": {},
   "outputs": [
    {
     "data": {
      "text/plain": [
       "<matplotlib.axes._subplots.AxesSubplot at 0x14d1bcf3388>"
      ]
     },
     "execution_count": 2,
     "metadata": {},
     "output_type": "execute_result"
    },
    {
     "data": {
      "image/png": "[encoded data removed]",
      "text/plain": [
       "<Figure size 432x288 with 1 Axes>"
      ]
     },
     "metadata": {
      "needs_background": "light"
     },
     "output_type": "display_data"
    }
   ],
   "source": [
    "import seaborn as sns\n",
    "x=[1,2,2,2,3,3,4,5,5,5,6,6,6,6,7,8,8,9,22,25,27]\n",
    "sns.boxplot(x)\n"
   ]
  },
  {
   "cell_type": "markdown",
   "metadata": {},
   "source": [
    "# Z-Score:\n",
    "    \n",
    "    --> it is mainy used to determine where the standerd deviation fall in.\n",
    "    \n",
    "    --> zscore = (standerd deviation fall in value-mean)/standerd deviation\n",
    "    \n",
    "    --> zscore = (x - mean)/sigma\n",
    "    "
   ]
  },
  {
   "cell_type": "markdown",
   "metadata": {},
   "source": [
    "# Standerd normal distribution (or) Standerdization:\n",
    "\n",
    "I have a data set like. x =[1,2,3,4,5,6,7]\n",
    "\n",
    "Here x is a normal distribution.we are going to convert the normal distribution into standerd normal distribution.\n",
    "\n",
    "Zscore = (standerd deviation value - mean)/standerd deviaton\n",
    "\n",
    "mean  = sum of values / total no of values\n",
    "\n",
    "mean = 1+2+3+4+5+6+7 / 7\n",
    "\n",
    "mean = 4 and the standerd deviation is 1\n",
    "\n",
    "Zscore = 1-4 / 1 = -3/1 = -3\n",
    "\n",
    "Zscore = 2-4 / 1 = -2/1 = -2\n",
    "\n",
    "Zscore = 3-4 / 1 = -1/1 = -1\n",
    "\n",
    "Zscore = 4-4 / 1 = 0/1 = 0\n",
    "\n",
    "Zscore = 5-4 / 1 = 1/1 = 1\n",
    "\n",
    "Zscore = 6-4 / 1 = 2/1 = 2\n",
    "\n",
    "Zscore = 7-4 / 1 = 3/1 = 3\n",
    "\n",
    "Here we get zscore value = [-3,-2,-1,0,1,2,3]\n",
    "\n",
    "data set x =[1,2,3,4,5,6,7] --> Gausion or normal distribution.\n",
    "\n",
    "after applaying Zscore \n",
    "\n",
    "data set x =[-3,-2,-1,0,1,2,3] --> standerd normal distribution\n",
    "\n"
   ]
  },
  {
   "cell_type": "markdown",
   "metadata": {},
   "source": [
    "# Normalization:\n",
    "    \n",
    "    --> Normalization is nothing but it is used to rescale the data units into some inbetween range using min max scaler.\n",
    "\n",
    "    --> Minmax scaller = (x - xmin)/(xmax - xmin)\n",
    "    \n",
    "    data set = [1,2,3,4,5,6,7]\n",
    "    \n",
    "    normalization(Minmax scaller) = (1-1) / (7-1) = 0/6 = 0\n",
    "    \n",
    "    normalization(Minmax scaller) = (2-1) / (7-1) = 1/6 = 0.166\n",
    "    \n",
    "    normalization(Minmax scaller) = (3-1) / (7-1) = 2/6 = 0.33\n",
    "    \n",
    "    normalization(Minmax scaller) = (4-1) / (7-1) = 3/6 = 0.5\n",
    "    \n",
    "    normalization(Minmax scaller) = (5-1) / (7-1) = 4/6 = 0.667\n",
    "    \n",
    "    normalization(Minmax scaller) = (6-1) / (7-1) = 5/6 = 0.833\n",
    "    \n",
    "    normalization(Minmax scaller) = (7-1) / (7-1) = 6/6 = 1\n",
    "    \n",
    "    data set = [1,2,3,4,5,6,7] --> Normal distribution\n",
    "\n",
    "    After appliying the minmax scaller \n",
    "    \n",
    "    we get data set=[0,0.166,0.33,0.5,0.667,0.833,1] --> Nomalizing data\n",
    "    "
   ]
  },
  {
   "cell_type": "markdown",
   "metadata": {},
   "source": [
    "# Central limit theram:\n",
    "\n",
    "        Central limit theram states that the sample distribution of the sample mean approches a normal distribution as \n",
    "    \n",
    "    the sample size get larger.no matter what the shape of the population distribution.\n"
   ]
  },
  {
   "cell_type": "markdown",
   "metadata": {},
   "source": [
    "# Covariance (or) Corelation:\n",
    "    \n",
    "    --> Covariane is a statistical measure that gives the relationship between two variables.\n",
    "    \n",
    "    --> it express the extend which two varibles are linearly related.\n",
    "    \n",
    "    the Covariance has three types.they are\n",
    "        \n",
    "        1.Positive corelation.\n",
    "        \n",
    "        2.Negative corelation.\n",
    "        \n",
    "        3.zero corelation."
   ]
  },
  {
   "cell_type": "markdown",
   "metadata": {},
   "source": [
    "# Positive corelation:\n",
    "    \n",
    "    --> I have a two variable like X and Y.when X is incresing Y is incresing that is positive corelation.\n",
    "    "
   ]
  },
  {
   "cell_type": "markdown",
   "metadata": {},
   "source": [
    "# Negative Correlation:\n",
    "    \n",
    "    --> X is decresing Y is decresing there is negative corelation.\n",
    "    "
   ]
  },
  {
   "cell_type": "markdown",
   "metadata": {},
   "source": [
    "# Zero corelation:\n",
    "\n",
    "    --> there is no reltaionship between x and y that is zero corelation."
   ]
  },
  {
   "cell_type": "markdown",
   "metadata": {},
   "source": [
    "# Skewness:\n",
    "    \n",
    "    --> A Skewness is a measure of symetry and assymetry of data distribution.\n",
    "    \n",
    "    --> it's used to understanding the shape of data is a crucial action.\n",
    "    \n",
    "    --> it helps to understand where the most information is lying and anylies the outliers in a given data.\n",
    "    "
   ]
  },
  {
   "cell_type": "markdown",
   "metadata": {},
   "source": [
    "# Types of Skewness:\n",
    "\n",
    "        They are two tyes of Skewness. they are\n",
    "        \n",
    "            1.Positive Skewed (or) Right Skewed.\n",
    "            \n",
    "            2.Negative Skewed (or) Left Skewed.\n",
    "            "
   ]
  },
  {
   "cell_type": "markdown",
   "metadata": {},
   "source": [
    "# Positive Skewed (or) Right skewed:\n",
    "\n",
    "        --> The Mean of the data is greater than median.\n",
    "        \n",
    "        --> Most of the data pushed on the right-hand side.\n",
    "        \n",
    "        --> Mean value is greater than median as a median is the middle value and is always the highest value.\n",
    "        "
   ]
  },
  {
   "cell_type": "markdown",
   "metadata": {},
   "source": [
    "# Negative Skewed (or) Left Skewed:\n",
    "\n",
    "        --> its quite opposite of positive skewed.\n",
    "        \n",
    "        --> The mean value is less than the median.\n",
    "        \n",
    "        --> Most of the data pushed on the Left-hand side.\n",
    "    "
   ]
  },
  {
   "cell_type": "markdown",
   "metadata": {},
   "source": [
    "# Distributions:\n",
    "        \n",
    "        Distribution provides a mathamatical function that can be used to calculate the probablity of \n",
    "    \n",
    "    individual observation from the sample space.\n",
    "    "
   ]
  },
  {
   "cell_type": "markdown",
   "metadata": {},
   "source": [
    "# Types of distribution:\n",
    "    \n",
    "    1.Gausion Distribution (or) Normal Distribution.\n",
    "    \n",
    "    2.Log Normal Distribution.\n",
    "    \n",
    "    3.Standerd Normal Distribution.\n",
    "    \n",
    "    4.Binomial Distribution.\n",
    "    \n",
    "    5.Bernolious Distribution.\n",
    "    "
   ]
  },
  {
   "cell_type": "markdown",
   "metadata": {},
   "source": [
    "# Fundamental concepts of Distribution:\n",
    "\n",
    "        Before we dividing into the types of distribution it is important to revise the findamental cocepts of distribution.\n",
    "        \n",
    "        That fundamental concepts are\n",
    "            \n",
    "                1.Probability Density Function(PDF).\n",
    "                \n",
    "                2.Probablity Mass Function(PMF).\n",
    "                \n",
    "                3.Cumulative Density Function(CDF).\n",
    "    "
   ]
  },
  {
   "cell_type": "markdown",
   "metadata": {},
   "source": [
    "# 1.Probablity Density Function(PDF).\n",
    "\n",
    "        It describe the probablity of distribution of a continious variable.\n"
   ]
  },
  {
   "cell_type": "markdown",
   "metadata": {},
   "source": [
    "# 2.Probablity Mass Function(PMF):\n",
    "    \n",
    "        It describe the probablity distribution of a descrite random variable.\n",
    "        "
   ]
  },
  {
   "cell_type": "markdown",
   "metadata": {},
   "source": [
    "# 3.Cumulative Distribution function(CDF):\n",
    "\n",
    "        It describes the probablity of either continuous or discrete variables.\n",
    "        "
   ]
  },
  {
   "cell_type": "markdown",
   "metadata": {},
   "source": [
    "# Gausion distribution or normal distribution:\n",
    "    \n",
    "    --> Gausion Distribution is a Continious Distribution that describes the probablity of continous random variable \n",
    "            \n",
    "        that takes real vales.\n",
    "    \n",
    "    --> When ever we got a data like bell curve it is guassion distribution (or) normal distribution.\n",
    "  \n",
    "    --> it is mainly used to determine where the standerd deviation fall in.\n",
    "    "
   ]
  },
  {
   "cell_type": "code",
   "execution_count": 1,
   "metadata": {},
   "outputs": [
    {
     "data": {
      "image/png": "[encoded data removed]",
      "text/plain": [
       "<Figure size 432x288 with 1 Axes>"
      ]
     },
     "metadata": {
      "needs_background": "light"
     },
     "output_type": "display_data"
    }
   ],
   "source": [
    "import numpy as np\n",
    "import scipy as sp\n",
    "from scipy import stats\n",
    "import matplotlib.pyplot as plt\n",
    "x = np.arange(-5,5,0.001)\n",
    "y = stats.norm.pdf(x,0,1)\n",
    "plt.plot(x,y)\n",
    "plt.show()\n"
   ]
  },
  {
   "cell_type": "markdown",
   "metadata": {},
   "source": [
    "# Log Normal Distribution:\n",
    "\n",
    "    --> A Log Normal Distribution is a statistical distribution of logarthamic values from a related normal distributed.\n",
    "    \n",
    "    --> When ever you got a data like positive (or) Right-hand skewed its a Log Normal distribution.\n",
    "    \n",
    "    --> if u take a log value for each and every data points from the data its directly converted into normal (or) \n",
    "    \n",
    "        Gausion distribution.\n",
    "        "
   ]
  },
  {
   "cell_type": "code",
   "execution_count": 13,
   "metadata": {},
   "outputs": [
    {
     "data": {
      "text/plain": [
       "[<matplotlib.lines.Line2D at 0x1c63d3d2e08>]"
      ]
     },
     "execution_count": 13,
     "metadata": {},
     "output_type": "execute_result"
    },
    {
     "data": {
      "image/png": "[encoded data removed]",
      "text/plain": [
       "<Figure size 432x288 with 1 Axes>"
      ]
     },
     "metadata": {
      "needs_background": "light"
     },
     "output_type": "display_data"
    }
   ],
   "source": [
    "import matplotlib.pyplot as plt\n",
    "import numpy as np \n",
    "\n",
    "x= np.linspace(10,0,100)\n",
    "\n",
    "y1 = lognorm.pdf(x,1,2)\n",
    "y2 = lognorm.pdf(x,1,5)\n",
    "\n",
    "plt.plot(x,y1)"
   ]
  },
  {
   "cell_type": "markdown",
   "metadata": {},
   "source": [
    "# Standerd Normal Distribution: \n",
    "\n",
    "    --> Standerd normal distribution is a normal distribution with a mean of zero and standerd deviation of one.\n",
    "    \n",
    "    --> its mainly used for standerdizing the data points.\n",
    "    "
   ]
  },
  {
   "cell_type": "markdown",
   "metadata": {},
   "source": [
    "# Bernoullis Distribution:\n",
    "\n",
    "    --> The bernoullis distribution is a discrete distribution having two possible outcomes labelled by n=0 and n=1.\n",
    "    \n",
    "    --> It give two outcomes.\n"
   ]
  },
  {
   "cell_type": "markdown",
   "metadata": {},
   "source": [
    "# Binomial Distribution:\n",
    "\n",
    "    --> The probablity distribution of a binomial random variable is called as binomial distribution.\n",
    "    \n",
    "    --> we can use multiple trail in a binomial distribution.\n",
    "    "
   ]
  },
  {
   "cell_type": "markdown",
   "metadata": {},
   "source": [
    "# Hypothesis Teting:\n",
    "\n",
    "    Hypothesis testing is mainly used for make a conclusion with the help of some kind of test.\n",
    "    \n",
    "    some kind of test is\n",
    "    \n",
    "        --> Z-test\n",
    "        \n",
    "        --> T-test\n",
    "        \n",
    "        --> Chi-Square test\n",
    "    "
   ]
  },
  {
   "cell_type": "markdown",
   "metadata": {},
   "source": [
    "# Steps for Hypothesis testing:\n",
    "\n",
    "        1.Null Hypothesis(Coin is fair).\n",
    "        \n",
    "        2.Alternative Hypothesis(Coin is not fair).\n",
    "        \n",
    "        3.Exprement(Some kind of testes).\n",
    "        \n",
    "        4.Reject (or) Accept the null hypothesis(Based on Significance vale and Confidence Intervel).\n",
    "    "
   ]
  },
  {
   "cell_type": "markdown",
   "metadata": {},
   "source": [
    "# Confidence Interval:\n",
    "\n",
    "    Confidence interval is a range of estimation for an unknown parameter daefined as intervel with lower bound and upper\n",
    "   \n",
    "bound.\n",
    "\n",
    "                            Point  Estimation(+-) margin of error\n",
    "                            \n",
    "                            \n",
    "      Example:\n",
    "           \n",
    "            On the Quant test of CAT exam , tha standerd deviation is known to be 100. a sample of 25test takers has a mean\n",
    "\n",
    "        of 520 scores.constract a 95% CI about the mean?\n",
    "        \n",
    "       Given Data:\n",
    "       \n",
    "       Std =100\n",
    "       \n",
    "       n =25\n",
    "       \n",
    "       halfa = 0.05\n",
    "       \n",
    "       sample mean = 520\n",
    "       \n",
    "       confidence intervel = 95%\n",
    "       \n",
    "       significance value = 1- 0.95 = 0.05\n",
    "       \n",
    "       population standerd deviation is given and n>=30 so we are going to appaly the z test:\n",
    "       \n",
    "                       Formula = Point estimation (+-) margin of error\n",
    "                       \n",
    "                               sample mean (+-) z(halfa/2) std/square root of n\n",
    "                       \n",
    "                       Upper Bound = Point estimation + margin of error\n",
    "                       \n",
    "                       Lower Bound = Point estimation - margin of error\n",
    "                       \n",
    "                       upper bound = 520 + 1.96(20) = 559.2\n",
    "                       \n",
    "                       lower bound = 520 - 1.96(20) = 480.8\n",
    "              "
   ]
  },
  {
   "cell_type": "markdown",
   "metadata": {},
   "source": [
    "# One Tail and Two Tail test:\n",
    "\n",
    "        1. One tail tests allow for the possibillity of an effeect in one direction.\n",
    "        \n",
    "        2. Two tailed test for the possibility of an effect in two direction(positive or negative).\n"
   ]
  },
  {
   "cell_type": "markdown",
   "metadata": {},
   "source": [
    "# Types of test:\n",
    "\n",
    "    1.One sample Z-Test.\n",
    "    \n",
    "    2.One sample T-Test.\n",
    "    \n",
    "    3.Chi-Square Test.\n",
    "    \n",
    "    4.Annova Test.\n",
    "    "
   ]
  },
  {
   "cell_type": "markdown",
   "metadata": {},
   "source": [
    "# One Sample Z-Test.\n",
    "\n",
    "        -->Its is mathamatical calculation use to find the we want to accept the hypothesis testing (or) reject the hypothesis \n",
    "        \n",
    "        testing.\n",
    "        \n",
    "        --> If you want ot make a z test we must need to make sure some coditions.\n",
    "                \n",
    "                that condictions are \n",
    "                \n",
    "                1.Population standerd deviation is given or not.\n",
    "                \n",
    "                2.sample size is greater then or equal thirty.\n",
    "                \n",
    "                \n",
    "                    Formula = (sample mean - population mean) / (standerd_deviation /square root of sample) \n",
    "\n",
    "Example:\n",
    "    \n",
    "            In the population the average IQ is 100 with a standerd deviation of 15. Researcher wants to test a new meditation \n",
    "            \n",
    "        to see if their is positive (or) negative effect on intelligence (or) not effect at all. a sample of 30 participation\n",
    "        \n",
    "        who have taken the meditation has a mean of 140.did the meditation effect the intelligence.\n",
    "        \n",
    "        Given Data.\n",
    "            \n",
    "            population mean = 100\n",
    "            \n",
    "            standerd deviation =15\n",
    "            \n",
    "            sample size = 30\n",
    "            \n",
    "            sample mean = 140\n",
    "            \n",
    "            Here we have the\n",
    "            \n",
    "                1.Population standerd deviation is given or not.\n",
    "                \n",
    "                2.sample size is greater then or equal thirty.\n",
    "                \n",
    "                     Formula = (sample mean - population mean) / (standerd_deviation /square root of sample) \n",
    "\n",
    "            Steps that are involve in teasting:\n",
    "                    \n",
    "                     1.Null Hypothesis(Consider : Coin is fair).\n",
    "                     \n",
    "                         H is eqal to 100\n",
    "        \n",
    "                     2.Alternative Hypothesis(Consider : Coin is not fair).\n",
    "                     \n",
    "                         H not is eqal to 100\n",
    "                         \n",
    "                     3.state alpha.\n",
    "                     \n",
    "                         alpha =0.05\n",
    "                         \n",
    "                     4. State decision rule.\n",
    "                     \n",
    "                         Decesion rule is based on z table.\n",
    "                         \n",
    "                         here i have alpha value is 0.05\n",
    "                         \n",
    "                         --> Significance value.\n",
    "                         \n",
    "                                 significance value  = 1 - alpha\n",
    "                                 \n",
    "                                 significance value = 0.975\n",
    "                                 \n",
    "                                 here i got 1.96 from z table based on significance value.\n",
    "        \n",
    "                     5.Exprement(Some kind of testes).\n",
    "                     \n",
    "                          z = (sample mean - population mean) / (standerd_deviation /square root of sample) \n",
    "                      \n",
    "                          z = 140 -100 /(15/30)\n",
    "                      \n",
    "                          z = 14.607\n",
    "                      \n",
    "                          Here state our decession.\n",
    "                      \n",
    "                          14.60 > 1.96\n",
    "\n",
    "        \n",
    "                     6.Reject (or) Accept the null hypothesis(Based on Significance vale and Confidence Intervel).\n",
    "                            \n",
    "                           so we reject the null hypothesis.\n",
    "    \n",
    "                "
   ]
  },
  {
   "cell_type": "code",
   "execution_count": 14,
   "metadata": {},
   "outputs": [
    {
     "data": {
      "text/plain": [
       "(1.5976240527147705, 0.1101266701438426)"
      ]
     },
     "execution_count": 14,
     "metadata": {},
     "output_type": "execute_result"
    }
   ],
   "source": [
    "from statsmodels.stats.weightstats import ztest as ztest\n",
    "\n",
    "#enter IQ levels for 20 patients\n",
    "data = [88, 92, 94, 94, 96, 97, 97, 97, 99, 99,\n",
    "        105, 109, 109, 109, 110, 112, 112, 113, 114, 115]\n",
    "\n",
    "#perform one sample z-test\n",
    "ztest(data, value=100)\n",
    "\n",
    "(1.5976240527147705, 0.1101266701438426)"
   ]
  },
  {
   "cell_type": "markdown",
   "metadata": {},
   "source": [
    "# One sample T-Test:\n",
    "\n",
    "            whenever we got a question without population standerd deviation and sample space is not grter than are equal to \n",
    "        \n",
    "        thirty. \n",
    "        \n",
    "        \n",
    "                Formula = (sample mean - population sample) / (sample standerd deviation / square root of sample space)\n",
    "        \n",
    "        Given Date:\n",
    "        \n",
    "        population mean =100\n",
    "        \n",
    "        sample space  = 30.\n",
    "        \n",
    "        sample mean = 140.\n",
    "        \n",
    "        sample standerd deviation  =20\n",
    "        \n",
    "        1. Null Hypothesis.\n",
    "        \n",
    "             H is equal to 100\n",
    "             \n",
    "         2. Alternative Hpothesis.\n",
    "         \n",
    "             H is not equal to 100\n",
    "             \n",
    "          3. Calculate the Degree of freedom.\n",
    "          \n",
    "                  Degree of fredom = n-1\n",
    "                  \n",
    "                  n-1 = 30-1 = 29\n",
    "                  \n",
    "           4.State decesion rule.\n",
    "           \n",
    "               alpha = 0.05. \n",
    "               \n",
    "               i got 2.045 from t table based on degree of freedom.\n",
    "               \n",
    "           5.testing.\n",
    "           \n",
    "               t = (sample mean - population sample) / (sample standerd deviation / square root of sample space)\n",
    "               \n",
    "               t = (104 - 100) / (20/30)\n",
    "               \n",
    "               t = 10.96\n",
    "         \n",
    "               \n",
    "            6.Reject (or) Accept the null hypothesis(Based on Degre of freedom and Confidence Intervel).\n",
    "                            \n",
    "                           so we reject the null hypothesis.\n",
    "    \n",
    "                \n"
   ]
  },
  {
   "cell_type": "code",
   "execution_count": 18,
   "metadata": {},
   "outputs": [
    {
     "name": "stdout",
     "output_type": "stream",
     "text": [
      "t Statistic:  Ttest_1sampResult(statistic=0.2006562773994862, pvalue=0.8446291893053613)\n"
     ]
    }
   ],
   "source": [
    "from scipy.stats import ttest_1samp\n",
    "x =  [21.5, 24.5, 18.5, 17.2, 14.5, 23.2, 22.1, 20.5, 19.4, 18.1, 24.1, 18.5]\n",
    "tscore = ttest_1samp(x, popmean=20)\n",
    "print(\"t Statistic: \", tscore)  "
   ]
  },
  {
   "cell_type": "markdown",
   "metadata": {},
   "source": [
    "# Chi-Square test.\n",
    "\n",
    "        --> It is a non parametric test that is perfomed on catagerical (Nominal (or) Ordinal) data.\n",
    "        \n",
    "        --> chi-square test = square of (Observed value - Expected value) / Expected value.\n",
    "        \n",
    "        Example:\n",
    "        \n",
    "            In the 2000 cences the age of the individual in a sample town were found to be the following\n",
    "            \n",
    "            less than 18 is 20%.\n",
    "            18 to 35 is 30%.\n",
    "            greaterthan 35 is 50%.\n",
    "            \n",
    "            in 2010 the age of n=500 individuals were sampled below are the results\n",
    "            \n",
    "            less than 18 is 121.\n",
    "            18 to 35 is 288.\n",
    "            greaterthan 35 is 91.\n",
    "            \n",
    "                  The first one is expected value the second one is observed value.finally i got the value with the help of \n",
    "             those value(observed value and expected value).\n",
    "             \n",
    "             1.Null hypothesis.\n",
    "                 \n",
    "                    The data meets the distribution 2000 censes.\n",
    "                  \n",
    "              2.Alternative hypothesis.\n",
    "              \n",
    "                  The data does not meet the distribution in 2000 cences.\n",
    "             \n",
    "              3.degree of freedom = n-1 = 3-1 = 2\n",
    "              \n",
    "              4.decesion boundry.\n",
    "              \n",
    "                  i got the value of 5.99 from the chi square table with the help of degree of freedom.\n",
    "                  \n",
    "              5.calculate the test value.\n",
    "              \n",
    "                   chi-square test = square of (Observed value - Expected value) / Expected value.\n",
    "                   \n",
    "                   chi-square test = (121-100)^2 / 100\n",
    "                   \n",
    "                   chi-square test = 232.94.\n",
    "                   \n",
    "                   chi-square test = 232.94\n",
    "                   \n",
    "                   232.94>5.99\n",
    "                   \n",
    "                6.Reject (or) Accept the null hypothesis(Based on Degre of freedom and Confidence Intervel).\n",
    "                            \n",
    "                           so we reject the null hypothesis.\n",
    "              "
   ]
  },
  {
   "cell_type": "code",
   "execution_count": 20,
   "metadata": {},
   "outputs": [
    {
     "name": "stdout",
     "output_type": "stream",
     "text": [
      "chi-square value is 0.1031971404730939\n",
      "Independent (H0 holds true)\n"
     ]
    }
   ],
   "source": [
    "from scipy.stats import chi2_contingency\n",
    "  \n",
    "# defining the table\n",
    "data = [[207, 282, 241], [234, 242, 232]]\n",
    "stat, p, dof, expected = chi2_contingency(data)\n",
    "  \n",
    "# interpret p-value\n",
    "alpha = 0.05\n",
    "print(\"chi-square value is \" + str(p))\n",
    "if p <= alpha:\n",
    "    print('Dependent (reject H0)')\n",
    "else:\n",
    "    print('Independent (H0 holds true)')"
   ]
  },
  {
   "cell_type": "markdown",
   "metadata": {},
   "source": [
    "# Confusion Metrix:\n",
    "\n",
    "        --> Confusion metrix is mainly used to compare the target value with those predicted value by machine learning model.\n",
    "        \n",
    "        --> Confusion metrix is evaluating the perfomance of a classification model.\n",
    "        \n",
    "1.True Positive:\n",
    "\n",
    "    The actual and predict values are positive.\n",
    "    \n",
    "2.True Negative:\n",
    "    \n",
    "    The actual and predict values both are negative.\n",
    "\n",
    "3.False Negative:\n",
    "\n",
    "    The predicted value was wrongly predicted.\n",
    "    \n",
    "    The actual was negative and the predicted was positive\n",
    "    \n",
    "4.False Positive:\n",
    "\n",
    "    The actual was positive and predicted was negative.\n",
    "    \n",
    "    The predicted value was wrongly predicted\n"
   ]
  },
  {
   "cell_type": "markdown",
   "metadata": {},
   "source": [
    "# Type 1 and Type 2 Error:\n",
    "\n",
    "Type 1 Error:\n",
    "    \n",
    "    We reject the null hypothesis when the reality is true.\n",
    "    \n",
    "Type 2 Error:\n",
    "\n",
    "    We reject the null hypothesis when the reality is false.\n",
    "    "
   ]
  }
 ],
 "metadata": {
  "kernelspec": {
   "display_name": "Python 3",
   "language": "python",
   "name": "python3"
  },
  "language_info": {
   "codemirror_mode": {
    "name": "ipython",
    "version": 3
   },
   "file_extension": ".py",
   "mimetype": "text/x-python",
   "name": "python",
   "nbconvert_exporter": "python",
   "pygments_lexer": "ipython3",
   "version": "3.7.6"
  }
 },
 "nbformat": 4,
 "nbformat_minor": 4
}
